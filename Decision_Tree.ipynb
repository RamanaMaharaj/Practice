{
  "nbformat": 4,
  "nbformat_minor": 0,
  "metadata": {
    "colab": {
      "provenance": [],
      "authorship_tag": "ABX9TyM/K1xTomrDXXOFyNLNt6rG",
      "include_colab_link": true
    },
    "kernelspec": {
      "name": "python3",
      "display_name": "Python 3"
    },
    "language_info": {
      "name": "python"
    }
  },
  "cells": [
    {
      "cell_type": "markdown",
      "metadata": {
        "id": "view-in-github",
        "colab_type": "text"
      },
      "source": [
        "<a href=\"https://colab.research.google.com/github/RamanaMaharaj/Practice/blob/main/Decision_Tree.ipynb\" target=\"_parent\"><img src=\"https://colab.research.google.com/assets/colab-badge.svg\" alt=\"Open In Colab\"/></a>"
      ]
    },
    {
      "cell_type": "code",
      "execution_count": 72,
      "metadata": {
        "colab": {
          "base_uri": "https://localhost:8080/"
        },
        "id": "_J5XD0Brrpct",
        "outputId": "5e78906c-14b2-46da-e0ef-d86ae83f5e25"
      },
      "outputs": [
        {
          "output_type": "execute_result",
          "data": {
            "text/plain": [
              "0.7206703910614525"
            ]
          },
          "metadata": {},
          "execution_count": 72
        }
      ],
      "source": [
        "#Decision tree\n",
        "import pandas as np\n",
        "df = np.read_csv(\"/content/sample_data/titanic.csv\")\n",
        "df.head()\n",
        "inputs = df.drop(['PassengerId','Pclass','Name','SibSp','Parch','Ticket','Cabin','Embarked','Survived'],axis = 'columns')\n",
        "target = df['Survived']\n",
        "\n",
        "from sklearn.preprocessing import LabelEncoder\n",
        "le_Sex = LabelEncoder()\n",
        "\n",
        "inputs['Sex_n'] = le_Sex.fit_transform(inputs['Sex'])\n",
        "\n",
        "inputs.Age = inputs.Age.fillna(inputs.Age.mean())\n",
        "\n",
        "inputs_n = inputs.drop(['Sex'], axis = 'columns')\n",
        "\n",
        "from sklearn.model_selection import train_test_split\n",
        "\n",
        "x_train, x_test, y_train, y_test = train_test_split(inputs_n,target,test_size =0.2)\n",
        "\n",
        "len(x_train)\n",
        "len(x_test)\n",
        "\n",
        "from sklearn import tree\n",
        "model = tree.DecisionTreeClassifier()\n",
        "model.fit(x_train , y_train)\n",
        "model.score(x_test, y_test)\n",
        "\n",
        "\n",
        "\n",
        "\n",
        "\n",
        "\n",
        "\n",
        "\n",
        "\n",
        "\n",
        "\n",
        "\n",
        "\n",
        "\n"
      ]
    }
  ]
}