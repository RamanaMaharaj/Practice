{
  "nbformat": 4,
  "nbformat_minor": 0,
  "metadata": {
    "colab": {
      "provenance": [],
      "authorship_tag": "ABX9TyP/LjuVEqX3BQgXKfCHvBp3",
      "include_colab_link": true
    },
    "kernelspec": {
      "name": "python3",
      "display_name": "Python 3"
    },
    "language_info": {
      "name": "python"
    }
  },
  "cells": [
    {
      "cell_type": "markdown",
      "metadata": {
        "id": "view-in-github",
        "colab_type": "text"
      },
      "source": [
        "<a href=\"https://colab.research.google.com/github/RamanaMaharaj/Practice/blob/main/Python_practice.ipynb\" target=\"_parent\"><img src=\"https://colab.research.google.com/assets/colab-badge.svg\" alt=\"Open In Colab\"/></a>"
      ]
    },
    {
      "cell_type": "code",
      "execution_count": null,
      "metadata": {
        "colab": {
          "base_uri": "https://localhost:8080/"
        },
        "id": "nLgOmnO5H4Fg",
        "outputId": "a032535e-e702-4a4f-c4d1-5111be0a6ef2"
      },
      "outputs": [
        {
          "output_type": "stream",
          "name": "stdout",
          "text": [
            "hello world\n",
            "Bro\n",
            "HelloBro\n",
            "<class 'str'>\n",
            "Ram prakash\n"
          ]
        }
      ],
      "source": [
        "print ('hello world')\n",
        "name = \"Bro\"\n",
        "print (name)\n",
        "print ('Hello'+name)\n",
        "print(type(name))\n",
        "first_name = 'Ram'\n",
        "last_name = 'prakash'\n",
        "full_name = first_name+' '+last_name\n",
        "print (full_name)"
      ]
    },
    {
      "cell_type": "code",
      "source": [
        "#type casting\n"
      ],
      "metadata": {
        "id": "MVGKHVS5GXRL"
      },
      "execution_count": null,
      "outputs": []
    },
    {
      "cell_type": "code",
      "source": [
        "#integers\n",
        "age = 27\n",
        "age = age+1\n",
        "age+=1\n",
        "print (\"your age is \" +str(age))\n",
        "#print (type(age))"
      ],
      "metadata": {
        "colab": {
          "base_uri": "https://localhost:8080/"
        },
        "id": "KXHmswi3NKZJ",
        "outputId": "704bcaf6-e128-42d7-e87c-a70330fd01b6"
      },
      "execution_count": null,
      "outputs": [
        {
          "output_type": "stream",
          "name": "stdout",
          "text": [
            "your age is 29\n"
          ]
        }
      ]
    },
    {
      "cell_type": "code",
      "source": [
        "#floats\n",
        "height=20.5\n",
        "#print(height)\n",
        "#print(type(height))\n",
        "print ('your height is ' +str(height))"
      ],
      "metadata": {
        "colab": {
          "base_uri": "https://localhost:8080/"
        },
        "id": "mpK0Z358P1LC",
        "outputId": "295ab920-7619-409f-e39c-e8d5e3382ef1"
      },
      "execution_count": null,
      "outputs": [
        {
          "output_type": "stream",
          "name": "stdout",
          "text": [
            "your height is 20.5\n"
          ]
        }
      ]
    },
    {
      "cell_type": "code",
      "source": [
        "#boolean\n",
        "human2=False\n",
        "print(human2)"
      ],
      "metadata": {
        "colab": {
          "base_uri": "https://localhost:8080/"
        },
        "id": "s2VtOz6gQVDF",
        "outputId": "c4af0c87-a45c-4130-b3bf-b5dba6691f52"
      },
      "execution_count": null,
      "outputs": [
        {
          "output_type": "stream",
          "name": "stdout",
          "text": [
            "False\n"
          ]
        }
      ]
    },
    {
      "cell_type": "code",
      "source": [
        "#Multiple Assignments - allows us to assign multiple variables at the same time in one line of code\n",
        "#name = 'Ram'\n",
        "#age = 38\n",
        "#print(name)\n",
        "#print(age)\n",
        "#name, age, attractive = 'Ram', 38, True\n",
        "#print(name)\n",
        "#print(age)\n",
        "#print(attractive)\n",
        "a=b=c=1\n",
        "print(a)\n",
        "print(b)\n",
        "print(c)\n"
      ],
      "metadata": {
        "colab": {
          "base_uri": "https://localhost:8080/"
        },
        "id": "38-IAr9kRutW",
        "outputId": "5af5d3f0-14ac-477d-9b13-f88cb2968c78"
      },
      "execution_count": null,
      "outputs": [
        {
          "output_type": "stream",
          "name": "stdout",
          "text": [
            "1\n",
            "1\n",
            "1\n"
          ]
        }
      ]
    },
    {
      "cell_type": "code",
      "source": [
        "#String methods\n",
        "name = 'Ram'\n",
        "#print(len(name))\n",
        "#print(name.find(\"m\"))\n",
        "#print(name.capitalize())  #capitalized only the first character\n",
        "#print(name.upper())\n",
        "#print(name.lower())\n",
        "#print(name.isdigit())  #to know if there a numeral\n",
        "#print(name.isalpha())# to know if there is an alphabet\n",
        "#print(name.count('a'))\n",
        "print(name.replace('a','o'))\n",
        "print(name*3)"
      ],
      "metadata": {
        "colab": {
          "base_uri": "https://localhost:8080/"
        },
        "id": "ho93R2jYT4Ee",
        "outputId": "4791c66a-1753-4574-cddc-fbd9f77a14dd"
      },
      "execution_count": null,
      "outputs": [
        {
          "output_type": "stream",
          "name": "stdout",
          "text": [
            "Rom\n",
            "RamRamRam\n"
          ]
        }
      ]
    },
    {
      "cell_type": "code",
      "source": [
        "#typecasting - to convert one data type into another\n",
        "a=1\n",
        "b=2.0\n",
        "c=\"3\"\n",
        "#print(a)\n",
        "#print(int(b))\n",
        "#print(float(c))\n",
        "b=int(b)\n",
        "#print(b)\n",
        "a=str(a)\n",
        "print('A is', int(b))"
      ],
      "metadata": {
        "colab": {
          "base_uri": "https://localhost:8080/"
        },
        "id": "dUFHM1C-Hba4",
        "outputId": "74c7baf6-35f5-447e-f7aa-9794ebbf1b42"
      },
      "execution_count": null,
      "outputs": [
        {
          "output_type": "stream",
          "name": "stdout",
          "text": [
            "A is 2\n"
          ]
        }
      ]
    },
    {
      "cell_type": "code",
      "source": [
        "#name = input('your name pls')\n",
        "#print('Hello',name)\n",
        "#print('Hello ' +name)\n",
        "age = int(input('your age'))\n",
        "age=age+1\n",
        "print('your age is '+str(age))"
      ],
      "metadata": {
        "id": "f_mSC0TCN5Wf",
        "colab": {
          "base_uri": "https://localhost:8080/"
        },
        "outputId": "8d162726-e1f3-40bb-9e0b-bb9231a92bfe"
      },
      "execution_count": null,
      "outputs": [
        {
          "output_type": "stream",
          "name": "stdout",
          "text": [
            "your age38\n",
            "your age is 39\n"
          ]
        }
      ]
    },
    {
      "cell_type": "code",
      "source": [
        "#math\n",
        "import math\n",
        "pi=-3.14\n",
        "x=1\n",
        "y=2\n",
        "z=3\n",
        "#print(round(pi))\n",
        "#print(math.ceil(pi))\n",
        "#print(math.floor(pi))\n",
        "#print(abs(pi))\n",
        "#print(pow(pi,2))\n",
        "print(math.sqrt(100))\n",
        "print(max(x,y,z))\n",
        "print(min(x,y,z))"
      ],
      "metadata": {
        "colab": {
          "base_uri": "https://localhost:8080/"
        },
        "id": "SmpnzyUreLyc",
        "outputId": "743dfe2b-eacb-4191-e592-56030fb29092"
      },
      "execution_count": 13,
      "outputs": [
        {
          "output_type": "stream",
          "name": "stdout",
          "text": [
            "10.0\n",
            "3\n",
            "1\n"
          ]
        }
      ]
    },
    {
      "cell_type": "code",
      "source": [
        "#indexing - creating a substring from a bigger string, indexing[] or slide(), [start:stop:step]\n",
        "name = 'Ram Prakash'\n",
        "#first_name = name[0:3]\n",
        "first_name=name[:3]\n",
        "last_name = name[4:11] #also name[4:]\n",
        "funky = name[0:11:3] #also name[::2]\n",
        "#print(first_name)\n",
        "#print(last_name)\n",
        "#print(funky)\n",
        "reverse_name = name[::-1]\n",
        "print(reverse_name)"
      ],
      "metadata": {
        "colab": {
          "base_uri": "https://localhost:8080/"
        },
        "id": "JDlgdGGyCUOO",
        "outputId": "d4f42899-5eed-403a-b94a-0088ad50075a"
      },
      "execution_count": 29,
      "outputs": [
        {
          "output_type": "stream",
          "name": "stdout",
          "text": [
            "hsakarP maR\n"
          ]
        }
      ]
    },
    {
      "cell_type": "code",
      "source": [
        "#conditional if statements\n",
        "age=int(input('your age please!'))\n",
        "if age>=13 and age<=19:\n",
        "  print ('you are a teenager')\n",
        "elif age>=18:\n",
        "  print('an adult')\n",
        "elif age<0:\n",
        "  print('not born yet')\n",
        "else:\n",
        "  print('you are a boy')\n"
      ],
      "metadata": {
        "colab": {
          "base_uri": "https://localhost:8080/"
        },
        "id": "3vApD4otjIN6",
        "outputId": "a61520c9-7a3a-493d-a91a-4fab2c56fcc1"
      },
      "execution_count": 18,
      "outputs": [
        {
          "output_type": "stream",
          "name": "stdout",
          "text": [
            "your age please!20\n",
            "an adult\n"
          ]
        }
      ]
    },
    {
      "cell_type": "code",
      "source": [
        "#odd or even\n",
        "x=int(input('enter a number'))\n",
        "y=x%2\n",
        "if x==0:\n",
        "  print('neither odd or even')\n",
        "elif y>0:\n",
        "  print ('odd number')\n",
        "else:\n",
        "  print('even number')"
      ],
      "metadata": {
        "colab": {
          "base_uri": "https://localhost:8080/"
        },
        "id": "DOVWpgVVL21P",
        "outputId": "910cb4a8-38fa-48a5-ff50-ae2f34cfa61f"
      },
      "execution_count": 11,
      "outputs": [
        {
          "output_type": "stream",
          "name": "stdout",
          "text": [
            "enter a number750\n",
            "even number\n"
          ]
        }
      ]
    },
    {
      "cell_type": "code",
      "source": [
        "#find max and min\n",
        "a=int(input('enter first number'))\n",
        "b=int(input('enter second number'))\n",
        "c=int(input('enter third number'))\n",
        "print('The biggest number is',max(a,b,c))#likewise for min"
      ],
      "metadata": {
        "colab": {
          "base_uri": "https://localhost:8080/"
        },
        "id": "iAdVfsBSIbT5",
        "outputId": "c997bdf0-4e8e-4310-e25a-89e607ead6ce"
      },
      "execution_count": 14,
      "outputs": [
        {
          "output_type": "stream",
          "name": "stdout",
          "text": [
            "enter first number1\n",
            "enter second number2\n",
            "enter third number3\n",
            "The biggest number is 3\n"
          ]
        }
      ]
    },
    {
      "cell_type": "code",
      "source": [
        "#logical operators\n",
        "temp=int(input('whats the temperature'))\n",
        "if temp>=0 and temp<=30:\n",
        "  print('Go outside')\n",
        "elif temp<0 or temp>30:\n",
        "  print('stay inside')\n",
        "#'not' will flip true to false and vice verse.  syntax like if not(temp>=0 and temp<=30):"
      ],
      "metadata": {
        "colab": {
          "base_uri": "https://localhost:8080/"
        },
        "id": "kcsgP4aQnHuT",
        "outputId": "17504b89-dffa-4d89-d7d0-905f387b725d"
      },
      "execution_count": 17,
      "outputs": [
        {
          "output_type": "stream",
          "name": "stdout",
          "text": [
            "whats the temperature40\n",
            "stay inside\n"
          ]
        }
      ]
    },
    {
      "cell_type": "code",
      "source": [
        "#while loop\n",
        "\n",
        "name =\"\"\n",
        "while name == \"\":\n",
        "    name = input('enter your name')\n",
        "print('Hello ' +name)"
      ],
      "metadata": {
        "colab": {
          "base_uri": "https://localhost:8080/"
        },
        "id": "n3xr84mr5lUP",
        "outputId": "7c76d313-3b3d-41dd-db4e-9180d96f3ecd"
      },
      "execution_count": 10,
      "outputs": [
        {
          "output_type": "stream",
          "name": "stdout",
          "text": [
            "enter your nameKutti Dingi\n",
            "Hello Kutti Dingi\n"
          ]
        }
      ]
    },
    {
      "cell_type": "code",
      "source": [
        "#while ascending number\n",
        "i=1\n",
        "while i<11:\n",
        "  print(i)\n",
        "  i=i+1"
      ],
      "metadata": {
        "colab": {
          "base_uri": "https://localhost:8080/"
        },
        "id": "g-z0yeYJ8L2o",
        "outputId": "2a941d28-ef45-40a7-f451-6f1a2eb72919"
      },
      "execution_count": 19,
      "outputs": [
        {
          "output_type": "stream",
          "name": "stdout",
          "text": [
            "1\n",
            "2\n",
            "3\n",
            "4\n",
            "5\n",
            "6\n",
            "7\n",
            "8\n",
            "9\n",
            "10\n"
          ]
        }
      ]
    },
    {
      "cell_type": "code",
      "source": [
        "#desceding order in while loop\n",
        "x=10\n",
        "while x>0:\n",
        "  print(x)\n",
        "  x=x-1"
      ],
      "metadata": {
        "colab": {
          "base_uri": "https://localhost:8080/"
        },
        "id": "mCQITy3e84yO",
        "outputId": "43a04799-a913-49b1-888f-2abc478aea21"
      },
      "execution_count": 20,
      "outputs": [
        {
          "output_type": "stream",
          "name": "stdout",
          "text": [
            "10\n",
            "9\n",
            "8\n",
            "7\n",
            "6\n",
            "5\n",
            "4\n",
            "3\n",
            "2\n",
            "1\n"
          ]
        }
      ]
    },
    {
      "cell_type": "code",
      "source": [
        "#for loop - limited while is for unlimited\n",
        "\n",
        "#for i in range(10):\n",
        "#  print(i+1)\n",
        "#for i in range (10,20,2):\n",
        "#  print(i)\n",
        "for i in 'Prathik':\n",
        "  print(i)\n"
      ],
      "metadata": {
        "colab": {
          "base_uri": "https://localhost:8080/"
        },
        "id": "JEYvtnD39o3V",
        "outputId": "a798080c-fac0-456a-95d5-4ad156fbc800"
      },
      "execution_count": 26,
      "outputs": [
        {
          "output_type": "stream",
          "name": "stdout",
          "text": [
            "P\n",
            "r\n",
            "a\n",
            "t\n",
            "h\n",
            "i\n",
            "k\n"
          ]
        }
      ]
    },
    {
      "cell_type": "code",
      "source": [
        "#multiplication\n",
        "a=int(input('enter the first number'))\n",
        "b=int(input('enter the second number'))\n",
        "c=a*b\n",
        "print(c)\n"
      ],
      "metadata": {
        "colab": {
          "base_uri": "https://localhost:8080/"
        },
        "id": "SMrsNjwx-ogO",
        "outputId": "5fb211d2-c774-4141-b950-9ee2a234e329"
      },
      "execution_count": 28,
      "outputs": [
        {
          "output_type": "stream",
          "name": "stdout",
          "text": [
            "enter the first number0987654321\n",
            "enter the second number0123456789\n",
            "121932631112635269\n"
          ]
        }
      ]
    },
    {
      "cell_type": "code",
      "source": [
        "#Happy New Year countdown\n",
        "import time\n",
        "for seconds in range(10,0,-1):\n",
        "  print(seconds)\n",
        "  time.sleep(1)\n",
        "print('Happy New Year')"
      ],
      "metadata": {
        "colab": {
          "base_uri": "https://localhost:8080/"
        },
        "id": "4AQMfZaX_k9Y",
        "outputId": "3e71578b-29d6-4b12-b532-a762c533b9a9"
      },
      "execution_count": 34,
      "outputs": [
        {
          "output_type": "stream",
          "name": "stdout",
          "text": [
            "10\n",
            "9\n",
            "8\n",
            "7\n",
            "6\n",
            "5\n",
            "4\n",
            "3\n",
            "2\n",
            "1\n",
            "Happy New Year\n"
          ]
        }
      ]
    }
  ]
}