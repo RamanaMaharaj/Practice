{
  "nbformat": 4,
  "nbformat_minor": 0,
  "metadata": {
    "colab": {
      "provenance": [],
      "authorship_tag": "ABX9TyPpFwaT0gbK65GpqdZX6BCl",
      "include_colab_link": true
    },
    "kernelspec": {
      "name": "python3",
      "display_name": "Python 3"
    },
    "language_info": {
      "name": "python"
    }
  },
  "cells": [
    {
      "cell_type": "markdown",
      "metadata": {
        "id": "view-in-github",
        "colab_type": "text"
      },
      "source": [
        "<a href=\"https://colab.research.google.com/github/RamanaMaharaj/Practice/blob/main/Python_practice.ipynb\" target=\"_parent\"><img src=\"https://colab.research.google.com/assets/colab-badge.svg\" alt=\"Open In Colab\"/></a>"
      ]
    },
    {
      "cell_type": "code",
      "execution_count": null,
      "metadata": {
        "colab": {
          "base_uri": "https://localhost:8080/"
        },
        "id": "nLgOmnO5H4Fg",
        "outputId": "a032535e-e702-4a4f-c4d1-5111be0a6ef2"
      },
      "outputs": [
        {
          "output_type": "stream",
          "name": "stdout",
          "text": [
            "hello world\n",
            "Bro\n",
            "HelloBro\n",
            "<class 'str'>\n",
            "Ram prakash\n"
          ]
        }
      ],
      "source": [
        "print ('hello world')\n",
        "name = \"Bro\"\n",
        "print (name)\n",
        "print ('Hello'+name)\n",
        "print(type(name))\n",
        "first_name = 'Ram'\n",
        "last_name = 'prakash'\n",
        "full_name = first_name+' '+last_name\n",
        "print (full_name)"
      ]
    },
    {
      "cell_type": "code",
      "source": [],
      "metadata": {
        "id": "iaKonc57BuCd"
      },
      "execution_count": null,
      "outputs": []
    },
    {
      "cell_type": "code",
      "source": [
        "#type casting\n"
      ],
      "metadata": {
        "id": "MVGKHVS5GXRL"
      },
      "execution_count": null,
      "outputs": []
    },
    {
      "cell_type": "code",
      "source": [
        "#integers\n",
        "age = 27\n",
        "age = age+1\n",
        "age+=1\n",
        "print (\"your age is \" +str(age))\n",
        "#print (type(age))"
      ],
      "metadata": {
        "colab": {
          "base_uri": "https://localhost:8080/"
        },
        "id": "KXHmswi3NKZJ",
        "outputId": "704bcaf6-e128-42d7-e87c-a70330fd01b6"
      },
      "execution_count": null,
      "outputs": [
        {
          "output_type": "stream",
          "name": "stdout",
          "text": [
            "your age is 29\n"
          ]
        }
      ]
    },
    {
      "cell_type": "code",
      "source": [
        "#floats\n",
        "height=20.5\n",
        "#print(height)\n",
        "#print(type(height))\n",
        "print ('your height is ' +str(height))"
      ],
      "metadata": {
        "colab": {
          "base_uri": "https://localhost:8080/"
        },
        "id": "mpK0Z358P1LC",
        "outputId": "295ab920-7619-409f-e39c-e8d5e3382ef1"
      },
      "execution_count": null,
      "outputs": [
        {
          "output_type": "stream",
          "name": "stdout",
          "text": [
            "your height is 20.5\n"
          ]
        }
      ]
    },
    {
      "cell_type": "code",
      "source": [
        "#boolean\n",
        "human2=False\n",
        "print(human2)"
      ],
      "metadata": {
        "colab": {
          "base_uri": "https://localhost:8080/"
        },
        "id": "s2VtOz6gQVDF",
        "outputId": "c4af0c87-a45c-4130-b3bf-b5dba6691f52"
      },
      "execution_count": null,
      "outputs": [
        {
          "output_type": "stream",
          "name": "stdout",
          "text": [
            "False\n"
          ]
        }
      ]
    },
    {
      "cell_type": "code",
      "source": [
        "#Multiple Assignments - allows us to assign multiple variables at the same time in one line of code\n",
        "#name = 'Ram'\n",
        "#age = 38\n",
        "#print(name)\n",
        "#print(age)\n",
        "#name, age, attractive = 'Ram', 38, True\n",
        "#print(name)\n",
        "#print(age)\n",
        "#print(attractive)\n",
        "a=b=c=1\n",
        "print(a)\n",
        "print(b)\n",
        "print(c)\n"
      ],
      "metadata": {
        "colab": {
          "base_uri": "https://localhost:8080/"
        },
        "id": "38-IAr9kRutW",
        "outputId": "5af5d3f0-14ac-477d-9b13-f88cb2968c78"
      },
      "execution_count": null,
      "outputs": [
        {
          "output_type": "stream",
          "name": "stdout",
          "text": [
            "1\n",
            "1\n",
            "1\n"
          ]
        }
      ]
    },
    {
      "cell_type": "code",
      "source": [
        "#String methods\n",
        "name = 'Ram'\n",
        "#print(len(name))\n",
        "#print(name.find(\"m\"))\n",
        "#print(name.capitalize())  #capitalized only the first character\n",
        "#print(name.upper())\n",
        "#print(name.lower())\n",
        "#print(name.isdigit())  #to know if there a numeral\n",
        "#print(name.isalpha())# to know if there is an alphabet\n",
        "#print(name.count('a'))\n",
        "print(name.replace('a','o'))\n",
        "print(name*3)"
      ],
      "metadata": {
        "colab": {
          "base_uri": "https://localhost:8080/"
        },
        "id": "ho93R2jYT4Ee",
        "outputId": "4791c66a-1753-4574-cddc-fbd9f77a14dd"
      },
      "execution_count": null,
      "outputs": [
        {
          "output_type": "stream",
          "name": "stdout",
          "text": [
            "Rom\n",
            "RamRamRam\n"
          ]
        }
      ]
    },
    {
      "cell_type": "code",
      "source": [
        "#typecasting - to convert one data type into another\n",
        "a=1\n",
        "b=2.0\n",
        "c=\"3\"\n",
        "#print(a)\n",
        "#print(int(b))\n",
        "#print(float(c))\n",
        "b=int(b)\n",
        "#print(b)\n",
        "a=str(a)\n",
        "print('A is', int(b))"
      ],
      "metadata": {
        "colab": {
          "base_uri": "https://localhost:8080/"
        },
        "id": "dUFHM1C-Hba4",
        "outputId": "74c7baf6-35f5-447e-f7aa-9794ebbf1b42"
      },
      "execution_count": null,
      "outputs": [
        {
          "output_type": "stream",
          "name": "stdout",
          "text": [
            "A is 2\n"
          ]
        }
      ]
    },
    {
      "cell_type": "code",
      "source": [
        "#name = input('your name pls')\n",
        "#print('Hello',name)\n",
        "#print('Hello ' +name)\n",
        "age = int(input('your age'))\n",
        "age=age+1\n",
        "print('your age is '+str(age))"
      ],
      "metadata": {
        "id": "f_mSC0TCN5Wf",
        "colab": {
          "base_uri": "https://localhost:8080/"
        },
        "outputId": "8d162726-e1f3-40bb-9e0b-bb9231a92bfe"
      },
      "execution_count": null,
      "outputs": [
        {
          "output_type": "stream",
          "name": "stdout",
          "text": [
            "your age38\n",
            "your age is 39\n"
          ]
        }
      ]
    },
    {
      "cell_type": "code",
      "source": [
        "#math\n",
        "import math\n",
        "pi=-3.14\n",
        "x=1\n",
        "y=2\n",
        "z=3\n",
        "#print(round(pi))\n",
        "#print(math.ceil(pi))\n",
        "#print(math.floor(pi))\n",
        "#print(abs(pi))\n",
        "#print(pow(pi,2))\n",
        "print(math.sqrt(100))\n",
        "print(max(x,y,z))\n",
        "print(min(x,y,z))"
      ],
      "metadata": {
        "colab": {
          "base_uri": "https://localhost:8080/"
        },
        "id": "SmpnzyUreLyc",
        "outputId": "743dfe2b-eacb-4191-e592-56030fb29092"
      },
      "execution_count": null,
      "outputs": [
        {
          "output_type": "stream",
          "name": "stdout",
          "text": [
            "10.0\n",
            "3\n",
            "1\n"
          ]
        }
      ]
    },
    {
      "cell_type": "code",
      "source": [
        "#indexing - creating a substring from a bigger string, indexing[] or slide(), [start:stop:step]\n",
        "name = 'Ram Prakash'\n",
        "#first_name = name[0:3]\n",
        "first_name=name[:3]\n",
        "last_name = name[4:11] #also name[4:]\n",
        "funky = name[0:11:3] #also name[::2]\n",
        "#print(first_name)\n",
        "#print(last_name)\n",
        "#print(funky)\n",
        "reverse_name = name[::-1]\n",
        "print(reverse_name)"
      ],
      "metadata": {
        "colab": {
          "base_uri": "https://localhost:8080/"
        },
        "id": "JDlgdGGyCUOO",
        "outputId": "d4f42899-5eed-403a-b94a-0088ad50075a"
      },
      "execution_count": null,
      "outputs": [
        {
          "output_type": "stream",
          "name": "stdout",
          "text": [
            "hsakarP maR\n"
          ]
        }
      ]
    },
    {
      "cell_type": "code",
      "source": [
        "#conditional if statements\n",
        "age=int(input('your age please!'))\n",
        "if age>=13 and age<=19:\n",
        "  print ('you are a teenager')\n",
        "elif age>=18:\n",
        "  print('an adult')\n",
        "elif age<0:\n",
        "  print('not born yet')\n",
        "else:\n",
        "  print('you are a boy')\n"
      ],
      "metadata": {
        "colab": {
          "base_uri": "https://localhost:8080/"
        },
        "id": "3vApD4otjIN6",
        "outputId": "a61520c9-7a3a-493d-a91a-4fab2c56fcc1"
      },
      "execution_count": null,
      "outputs": [
        {
          "output_type": "stream",
          "name": "stdout",
          "text": [
            "your age please!20\n",
            "an adult\n"
          ]
        }
      ]
    },
    {
      "cell_type": "code",
      "source": [
        "#odd or even\n",
        "x=int(input('enter a number'))\n",
        "y=x%2\n",
        "if x==0:\n",
        "  print('neither odd or even')\n",
        "elif y>0:\n",
        "  print ('odd number')\n",
        "else:\n",
        "  print('even number')"
      ],
      "metadata": {
        "colab": {
          "base_uri": "https://localhost:8080/"
        },
        "id": "DOVWpgVVL21P",
        "outputId": "910cb4a8-38fa-48a5-ff50-ae2f34cfa61f"
      },
      "execution_count": null,
      "outputs": [
        {
          "output_type": "stream",
          "name": "stdout",
          "text": [
            "enter a number750\n",
            "even number\n"
          ]
        }
      ]
    },
    {
      "cell_type": "code",
      "source": [
        "#find max and min\n",
        "a=int(input('enter first number'))\n",
        "b=int(input('enter second number'))\n",
        "c=int(input('enter third number'))\n",
        "print('The biggest number is',max(a,b,c))#likewise for min"
      ],
      "metadata": {
        "colab": {
          "base_uri": "https://localhost:8080/"
        },
        "id": "iAdVfsBSIbT5",
        "outputId": "c997bdf0-4e8e-4310-e25a-89e607ead6ce"
      },
      "execution_count": null,
      "outputs": [
        {
          "output_type": "stream",
          "name": "stdout",
          "text": [
            "enter first number1\n",
            "enter second number2\n",
            "enter third number3\n",
            "The biggest number is 3\n"
          ]
        }
      ]
    },
    {
      "cell_type": "code",
      "source": [
        "#logical operators\n",
        "temp=int(input('whats the temperature'))\n",
        "if temp>=0 and temp<=30:\n",
        "  print('Go outside')\n",
        "elif temp<0 or temp>30:\n",
        "  print('stay inside')\n",
        "#'not' will flip true to false and vice verse.  syntax like if not(temp>=0 and temp<=30):"
      ],
      "metadata": {
        "colab": {
          "base_uri": "https://localhost:8080/"
        },
        "id": "kcsgP4aQnHuT",
        "outputId": "17504b89-dffa-4d89-d7d0-905f387b725d"
      },
      "execution_count": null,
      "outputs": [
        {
          "output_type": "stream",
          "name": "stdout",
          "text": [
            "whats the temperature40\n",
            "stay inside\n"
          ]
        }
      ]
    },
    {
      "cell_type": "code",
      "source": [
        "#while loop\n",
        "\n",
        "name =\"\"\n",
        "while name == \"\":\n",
        "    name = input('enter your name')\n",
        "print('Hello ' +name)"
      ],
      "metadata": {
        "colab": {
          "base_uri": "https://localhost:8080/"
        },
        "id": "n3xr84mr5lUP",
        "outputId": "7c76d313-3b3d-41dd-db4e-9180d96f3ecd"
      },
      "execution_count": null,
      "outputs": [
        {
          "output_type": "stream",
          "name": "stdout",
          "text": [
            "enter your nameKutti Dingi\n",
            "Hello Kutti Dingi\n"
          ]
        }
      ]
    },
    {
      "cell_type": "code",
      "source": [
        "#while ascending number\n",
        "i=1\n",
        "while i<11:\n",
        "  print(i)\n",
        "  i=i+1"
      ],
      "metadata": {
        "colab": {
          "base_uri": "https://localhost:8080/"
        },
        "id": "g-z0yeYJ8L2o",
        "outputId": "2a941d28-ef45-40a7-f451-6f1a2eb72919"
      },
      "execution_count": null,
      "outputs": [
        {
          "output_type": "stream",
          "name": "stdout",
          "text": [
            "1\n",
            "2\n",
            "3\n",
            "4\n",
            "5\n",
            "6\n",
            "7\n",
            "8\n",
            "9\n",
            "10\n"
          ]
        }
      ]
    },
    {
      "cell_type": "code",
      "source": [
        "#desceding order in while loop\n",
        "x=10\n",
        "while x>0:\n",
        "  print(x)\n",
        "  x=x-1"
      ],
      "metadata": {
        "colab": {
          "base_uri": "https://localhost:8080/"
        },
        "id": "mCQITy3e84yO",
        "outputId": "43a04799-a913-49b1-888f-2abc478aea21"
      },
      "execution_count": null,
      "outputs": [
        {
          "output_type": "stream",
          "name": "stdout",
          "text": [
            "10\n",
            "9\n",
            "8\n",
            "7\n",
            "6\n",
            "5\n",
            "4\n",
            "3\n",
            "2\n",
            "1\n"
          ]
        }
      ]
    },
    {
      "cell_type": "code",
      "source": [
        "#for loop - limited while is for unlimited\n",
        "\n",
        "#for i in range(10):\n",
        "#  print(i+1)\n",
        "#for i in range (10,20,2):\n",
        "#  print(i)\n",
        "for i in 'Prathik':\n",
        "  print(i)\n"
      ],
      "metadata": {
        "colab": {
          "base_uri": "https://localhost:8080/"
        },
        "id": "JEYvtnD39o3V",
        "outputId": "a798080c-fac0-456a-95d5-4ad156fbc800"
      },
      "execution_count": null,
      "outputs": [
        {
          "output_type": "stream",
          "name": "stdout",
          "text": [
            "P\n",
            "r\n",
            "a\n",
            "t\n",
            "h\n",
            "i\n",
            "k\n"
          ]
        }
      ]
    },
    {
      "cell_type": "code",
      "source": [
        "#multiplication\n",
        "a=int(input('enter the first number'))\n",
        "b=int(input('enter the second number'))\n",
        "c=a*b\n",
        "print(c)\n"
      ],
      "metadata": {
        "colab": {
          "base_uri": "https://localhost:8080/"
        },
        "id": "SMrsNjwx-ogO",
        "outputId": "5fb211d2-c774-4141-b950-9ee2a234e329"
      },
      "execution_count": null,
      "outputs": [
        {
          "output_type": "stream",
          "name": "stdout",
          "text": [
            "enter the first number0987654321\n",
            "enter the second number0123456789\n",
            "121932631112635269\n"
          ]
        }
      ]
    },
    {
      "cell_type": "code",
      "source": [
        "#Happy New Year countdown\n",
        "import time\n",
        "for seconds in range(10,0,-1):\n",
        "  print(seconds)\n",
        "  time.sleep(1)\n",
        "print('Happy New Year')"
      ],
      "metadata": {
        "colab": {
          "base_uri": "https://localhost:8080/"
        },
        "id": "4AQMfZaX_k9Y",
        "outputId": "3e71578b-29d6-4b12-b532-a762c533b9a9"
      },
      "execution_count": null,
      "outputs": [
        {
          "output_type": "stream",
          "name": "stdout",
          "text": [
            "10\n",
            "9\n",
            "8\n",
            "7\n",
            "6\n",
            "5\n",
            "4\n",
            "3\n",
            "2\n",
            "1\n",
            "Happy New Year\n"
          ]
        }
      ]
    },
    {
      "cell_type": "code",
      "source": [
        "#nested loops\n",
        "rows=int(input('Enter number of rows: '))\n",
        "cols=int(input('Enter number of columns: '))\n",
        "symbol=input('Enter the symbol: ')\n",
        "for i in range(rows):\n",
        "  for j in range(cols):\n",
        "    print(symbol, end=\"\")\n",
        "  print()\n",
        "#observation - print() is used a 'Enter' key here\n"
      ],
      "metadata": {
        "colab": {
          "base_uri": "https://localhost:8080/"
        },
        "id": "HERjRhPyd0XH",
        "outputId": "d1c970a9-b0d2-4c14-9b71-296beb907d89"
      },
      "execution_count": null,
      "outputs": [
        {
          "output_type": "stream",
          "name": "stdout",
          "text": [
            "Enter number of rows: 3\n",
            "Enter number of columns: 4\n",
            "Enter the symbol: &\n",
            "&&&&\n",
            "&&&&\n",
            "&&&&\n"
          ]
        }
      ]
    },
    {
      "cell_type": "code",
      "source": [
        "#exercise 1 - To print first 10 natural numbers\n",
        "for i in range(10):\n",
        "  print(i+1)\n"
      ],
      "metadata": {
        "colab": {
          "base_uri": "https://localhost:8080/"
        },
        "id": "CHabk8x1fH2F",
        "outputId": "94431a64-7c7f-4b60-8396-194d10b8cf08"
      },
      "execution_count": null,
      "outputs": [
        {
          "output_type": "stream",
          "name": "stdout",
          "text": [
            "1\n",
            "2\n",
            "3\n",
            "4\n",
            "5\n",
            "6\n",
            "7\n",
            "8\n",
            "9\n",
            "10\n"
          ]
        }
      ]
    },
    {
      "cell_type": "code",
      "source": [
        "#exercise 2 - to print in patterns\n",
        "rows=int(input('Enter a number: '))\n",
        "for i in range(1,rows+1):\n",
        "  for j in range(1, i+1):\n",
        "    print(j, end=\" \")\n",
        "  print()"
      ],
      "metadata": {
        "colab": {
          "base_uri": "https://localhost:8080/"
        },
        "id": "sWNO7dqmfpyu",
        "outputId": "940a9bed-3ed6-43d4-a6c0-8fa5a6bf7d7f"
      },
      "execution_count": null,
      "outputs": [
        {
          "output_type": "stream",
          "name": "stdout",
          "text": [
            "Enter a number: 3\n",
            "1 \n",
            "1 2 \n",
            "1 2 3 \n"
          ]
        }
      ]
    },
    {
      "cell_type": "code",
      "source": [
        "row = 5\n",
        "# start: 1\n",
        "# stop: row+1 (range never include stop number in result)\n",
        "# step: 1\n",
        "# run loop 5 times\n",
        "for i in range(1, row + 1, 1):\n",
        "    # Run inner loop i+1 times\n",
        "    for j in range(1, i + 1):\n",
        "        print(j, end=' ')\n",
        "    # empty line after each row\n",
        "    print(\"\")"
      ],
      "metadata": {
        "colab": {
          "base_uri": "https://localhost:8080/"
        },
        "id": "ymCqMYn-k-sf",
        "outputId": "e83e87b1-1f14-4a7e-bbe3-be67bb029aa9"
      },
      "execution_count": null,
      "outputs": [
        {
          "output_type": "stream",
          "name": "stdout",
          "text": [
            "1 \n",
            "1 2 \n",
            "1 2 3 \n",
            "1 2 3 4 \n",
            "1 2 3 4 5 \n"
          ]
        }
      ]
    },
    {
      "cell_type": "code",
      "source": [
        "#arithmatic progression\n",
        "a=int(input('Enter a number: '))\n",
        "sum=0\n",
        "for i in range(1,a+1):\n",
        "  #sum=sum+i\n",
        "  sum+=i\n",
        "print(sum)"
      ],
      "metadata": {
        "colab": {
          "base_uri": "https://localhost:8080/"
        },
        "id": "BBgjJAPvlwbe",
        "outputId": "a19a6275-e954-4cd9-ca81-57fee1073fe8"
      },
      "execution_count": null,
      "outputs": [
        {
          "output_type": "stream",
          "name": "stdout",
          "text": [
            "Enter a number: 10\n",
            "55\n"
          ]
        }
      ]
    },
    {
      "cell_type": "code",
      "source": [
        "#multiplication table\n",
        "a=int(input('Enter a number'))\n",
        "b=10\n",
        "for i in range(1, b+1):\n",
        "  print(i*a)"
      ],
      "metadata": {
        "colab": {
          "base_uri": "https://localhost:8080/"
        },
        "id": "lyub_SnJpz5T",
        "outputId": "95b8f091-3ffe-4139-949e-364348e19544"
      },
      "execution_count": null,
      "outputs": [
        {
          "output_type": "stream",
          "name": "stdout",
          "text": [
            "Enter a number5\n",
            "5\n",
            "10\n",
            "15\n",
            "20\n",
            "25\n",
            "30\n",
            "35\n",
            "40\n",
            "45\n",
            "50\n"
          ]
        }
      ]
    },
    {
      "cell_type": "code",
      "source": [
        "#break example\n",
        "\n",
        "while True:\n",
        "  name = input('Enter your name')\n",
        "  if name!= \"\":\n",
        "    break"
      ],
      "metadata": {
        "colab": {
          "base_uri": "https://localhost:8080/"
        },
        "id": "lQM2_I6s472A",
        "outputId": "6e84e97e-603e-4b27-a454-a97745039136"
      },
      "execution_count": null,
      "outputs": [
        {
          "name": "stdout",
          "output_type": "stream",
          "text": [
            "Enter your name\n",
            "Enter your name\n",
            "Enter your nameRam\n"
          ]
        }
      ]
    },
    {
      "cell_type": "code",
      "source": [
        "#Continue example\n",
        "number =\"123-456-789\"\n",
        "for i in number:\n",
        "  if i == \"-\":\n",
        "    continue\n",
        "  print(i, end=\"\")"
      ],
      "metadata": {
        "colab": {
          "base_uri": "https://localhost:8080/"
        },
        "id": "fo8yQQze5eW6",
        "outputId": "1694eae9-b25f-40c1-99e4-a85e5a699886"
      },
      "execution_count": null,
      "outputs": [
        {
          "output_type": "stream",
          "name": "stdout",
          "text": [
            "123456789"
          ]
        }
      ]
    },
    {
      "cell_type": "code",
      "source": [
        "#Pass\n",
        "for i in range(1,21):\n",
        "  if i == 13:\n",
        "    pass\n",
        "  else:\n",
        "    print(i,\" \",end=\"\")"
      ],
      "metadata": {
        "colab": {
          "base_uri": "https://localhost:8080/"
        },
        "id": "Rv22xcj8555E",
        "outputId": "80a5934f-b549-4097-c84a-e2bbe27ae458"
      },
      "execution_count": null,
      "outputs": [
        {
          "output_type": "stream",
          "name": "stdout",
          "text": [
            "1  2  3  4  5  6  7  8  9  10  11  12  14  15  16  17  18  19  20  "
          ]
        }
      ]
    },
    {
      "cell_type": "code",
      "source": [
        "#print number in reverse from -10 to -1\n",
        "for i in range(-10,0):\n",
        "  print(i)"
      ],
      "metadata": {
        "colab": {
          "base_uri": "https://localhost:8080/"
        },
        "id": "1c9606_n6bE1",
        "outputId": "6a5b5abe-1dbb-4488-a36c-8684d051918b"
      },
      "execution_count": null,
      "outputs": [
        {
          "output_type": "stream",
          "name": "stdout",
          "text": [
            "-10\n",
            "-9\n",
            "-8\n",
            "-7\n",
            "-6\n",
            "-5\n",
            "-4\n",
            "-3\n",
            "-2\n",
            "-1\n"
          ]
        }
      ]
    },
    {
      "cell_type": "code",
      "source": [
        "#check if its a prime number\n",
        "a=int(input(\"Enter a number\"))\n",
        "for i in range(2,a):\n",
        "  b=a%i\n",
        "  if b==0:\n",
        "    print(\"No Prime number\")\n",
        "    break\n",
        "else:\n",
        "  print(\"prime number\")"
      ],
      "metadata": {
        "colab": {
          "base_uri": "https://localhost:8080/"
        },
        "id": "W8KkfFBt61Hh",
        "outputId": "590e0c97-f8ea-473e-f47a-5c0aca983b63"
      },
      "execution_count": null,
      "outputs": [
        {
          "output_type": "stream",
          "name": "stdout",
          "text": [
            "Enter a number117\n",
            "No Prime number\n"
          ]
        }
      ]
    },
    {
      "cell_type": "code",
      "source": [
        "#lists\n",
        "food = [\"orange\",\"apple\",\"grapes\"]\n",
        "#print(food[0:3:2])\n",
        "#food[2]=\"pear\"\n",
        "#print(food)\n",
        "food.append(\"pear\")\n",
        "food.remove(\"pear\")\n",
        "food.insert(3,\"pear\")\n",
        "#food.pop()\n",
        "food.sort()\n",
        "#food.clear()\n",
        "food.reverse()\n",
        "for i in food:\n",
        "  print(i)"
      ],
      "metadata": {
        "colab": {
          "base_uri": "https://localhost:8080/"
        },
        "id": "c1P_ewYxFLfe",
        "outputId": "b29d0a24-13ee-4580-b5e2-021c8b8153ca"
      },
      "execution_count": null,
      "outputs": [
        {
          "output_type": "stream",
          "name": "stdout",
          "text": [
            "pear\n",
            "orange\n",
            "grapes\n",
            "apple\n"
          ]
        }
      ]
    },
    {
      "cell_type": "code",
      "source": [
        "#2D lists\n",
        "breakfast=[\"idli\",\"dosa\",\"pongal\"]\n",
        "lunch=[\"biryani\",\"rice\",\"naan\"]\n",
        "desserts=[\"keer\",\"halwa\"]\n",
        "food=[breakfast,lunch,desserts]\n",
        "#print(food)\n",
        "#print(food[0][1])\n",
        "brunch=[i + j for i,j in zip(breakfast,lunch)]\n",
        "print(brunch[0][1])"
      ],
      "metadata": {
        "colab": {
          "base_uri": "https://localhost:8080/"
        },
        "id": "jLHApZ_bkmZW",
        "outputId": "abef1ff5-3c24-49b3-c79b-59a9374a7e33"
      },
      "execution_count": null,
      "outputs": [
        {
          "output_type": "stream",
          "name": "stdout",
          "text": [
            "d\n"
          ]
        }
      ]
    },
    {
      "cell_type": "code",
      "source": [
        "import math\n",
        "a=int(input('Enter first number'))\n",
        "#b=int(input('Enter second number'))\n",
        "print(math.sqrt(a))\n"
      ],
      "metadata": {
        "colab": {
          "base_uri": "https://localhost:8080/"
        },
        "id": "h0BC-9FuAI6X",
        "outputId": "a71ed00b-bbcd-4943-9801-e0402ed1637a"
      },
      "execution_count": null,
      "outputs": [
        {
          "output_type": "stream",
          "name": "stdout",
          "text": [
            "Enter first number4\n",
            "2.0\n"
          ]
        }
      ]
    },
    {
      "cell_type": "code",
      "source": [
        "a=input('Enter your name')\n",
        "print(a, \"is Mr.Badass\")"
      ],
      "metadata": {
        "colab": {
          "base_uri": "https://localhost:8080/"
        },
        "id": "HM55kS_YFKbs",
        "outputId": "25018947-4209-48f8-de39-615bb2271a7e"
      },
      "execution_count": null,
      "outputs": [
        {
          "output_type": "stream",
          "name": "stdout",
          "text": [
            "Enter your nameLeo Das\n",
            "Leo Das is Mr.Badass\n"
          ]
        }
      ]
    }
  ]
}