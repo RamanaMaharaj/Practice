{
  "nbformat": 4,
  "nbformat_minor": 0,
  "metadata": {
    "colab": {
      "provenance": [],
      "authorship_tag": "ABX9TyO0nZDFIHZWgnuyow41SZik",
      "include_colab_link": true
    },
    "kernelspec": {
      "name": "python3",
      "display_name": "Python 3"
    },
    "language_info": {
      "name": "python"
    }
  },
  "cells": [
    {
      "cell_type": "markdown",
      "metadata": {
        "id": "view-in-github",
        "colab_type": "text"
      },
      "source": [
        "<a href=\"https://colab.research.google.com/github/RamanaMaharaj/Practice/blob/main/Python_practice.ipynb\" target=\"_parent\"><img src=\"https://colab.research.google.com/assets/colab-badge.svg\" alt=\"Open In Colab\"/></a>"
      ]
    },
    {
      "cell_type": "code",
      "execution_count": null,
      "metadata": {
        "colab": {
          "base_uri": "https://localhost:8080/"
        },
        "id": "nLgOmnO5H4Fg",
        "outputId": "a032535e-e702-4a4f-c4d1-5111be0a6ef2"
      },
      "outputs": [
        {
          "output_type": "stream",
          "name": "stdout",
          "text": [
            "hello world\n",
            "Bro\n",
            "HelloBro\n",
            "<class 'str'>\n",
            "Ram prakash\n"
          ]
        }
      ],
      "source": [
        "print ('hello world')\n",
        "name = \"Bro\"\n",
        "print (name)\n",
        "print ('Hello'+name)\n",
        "print(type(name))\n",
        "first_name = 'Ram'\n",
        "last_name = 'prakash'\n",
        "full_name = first_name+' '+last_name\n",
        "print (full_name)"
      ]
    },
    {
      "cell_type": "code",
      "source": [],
      "metadata": {
        "id": "TjtGK5SLeIUi"
      },
      "execution_count": null,
      "outputs": []
    },
    {
      "cell_type": "code",
      "source": [],
      "metadata": {
        "id": "GkdPg3HwGUaw"
      },
      "execution_count": null,
      "outputs": []
    },
    {
      "cell_type": "code",
      "source": [
        "#type casting\n"
      ],
      "metadata": {
        "id": "MVGKHVS5GXRL"
      },
      "execution_count": null,
      "outputs": []
    },
    {
      "cell_type": "code",
      "source": [
        "#integers\n",
        "age = 27\n",
        "age = age+1\n",
        "age+=1\n",
        "print (\"your age is \" +str(age))\n",
        "#print (type(age))"
      ],
      "metadata": {
        "colab": {
          "base_uri": "https://localhost:8080/"
        },
        "id": "KXHmswi3NKZJ",
        "outputId": "704bcaf6-e128-42d7-e87c-a70330fd01b6"
      },
      "execution_count": null,
      "outputs": [
        {
          "output_type": "stream",
          "name": "stdout",
          "text": [
            "your age is 29\n"
          ]
        }
      ]
    },
    {
      "cell_type": "code",
      "source": [
        "#floats\n",
        "height=20.5\n",
        "#print(height)\n",
        "#print(type(height))\n",
        "print ('your height is ' +str(height))"
      ],
      "metadata": {
        "colab": {
          "base_uri": "https://localhost:8080/"
        },
        "id": "mpK0Z358P1LC",
        "outputId": "295ab920-7619-409f-e39c-e8d5e3382ef1"
      },
      "execution_count": null,
      "outputs": [
        {
          "output_type": "stream",
          "name": "stdout",
          "text": [
            "your height is 20.5\n"
          ]
        }
      ]
    },
    {
      "cell_type": "code",
      "source": [
        "#boolean\n",
        "human2=False\n",
        "print(human2)"
      ],
      "metadata": {
        "colab": {
          "base_uri": "https://localhost:8080/"
        },
        "id": "s2VtOz6gQVDF",
        "outputId": "c4af0c87-a45c-4130-b3bf-b5dba6691f52"
      },
      "execution_count": null,
      "outputs": [
        {
          "output_type": "stream",
          "name": "stdout",
          "text": [
            "False\n"
          ]
        }
      ]
    },
    {
      "cell_type": "code",
      "source": [
        "#Multiple Assignments - allows us to assign multiple variables at the same time in one line of code\n",
        "#name = 'Ram'\n",
        "#age = 38\n",
        "#print(name)\n",
        "#print(age)\n",
        "#name, age, attractive = 'Ram', 38, True\n",
        "#print(name)\n",
        "#print(age)\n",
        "#print(attractive)\n",
        "a=b=c=1\n",
        "print(a)\n",
        "print(b)\n",
        "print(c)\n"
      ],
      "metadata": {
        "colab": {
          "base_uri": "https://localhost:8080/"
        },
        "id": "38-IAr9kRutW",
        "outputId": "5af5d3f0-14ac-477d-9b13-f88cb2968c78"
      },
      "execution_count": null,
      "outputs": [
        {
          "output_type": "stream",
          "name": "stdout",
          "text": [
            "1\n",
            "1\n",
            "1\n"
          ]
        }
      ]
    },
    {
      "cell_type": "code",
      "source": [
        "#String methods\n",
        "name = 'Ram'\n",
        "#print(len(name))\n",
        "#print(name.find(\"m\"))\n",
        "#print(name.capitalize())  #capitalized only the first character\n",
        "#print(name.upper())\n",
        "#print(name.lower())\n",
        "#print(name.isdigit())  #to know if there a numeral\n",
        "#print(name.isalpha())# to know if there is an alphabet\n",
        "#print(name.count('a'))\n",
        "print(name.replace('a','o'))\n",
        "print(name*3)"
      ],
      "metadata": {
        "colab": {
          "base_uri": "https://localhost:8080/"
        },
        "id": "ho93R2jYT4Ee",
        "outputId": "4791c66a-1753-4574-cddc-fbd9f77a14dd"
      },
      "execution_count": null,
      "outputs": [
        {
          "output_type": "stream",
          "name": "stdout",
          "text": [
            "Rom\n",
            "RamRamRam\n"
          ]
        }
      ]
    },
    {
      "cell_type": "code",
      "source": [
        "#typecasting - to convert one data type into another\n",
        "a=1\n",
        "b=2.0\n",
        "c=\"3\"\n",
        "#print(a)\n",
        "#print(int(b))\n",
        "#print(float(c))\n",
        "b=int(b)\n",
        "#print(b)\n",
        "a=str(a)\n",
        "print('A is', int(b))"
      ],
      "metadata": {
        "colab": {
          "base_uri": "https://localhost:8080/"
        },
        "id": "dUFHM1C-Hba4",
        "outputId": "74c7baf6-35f5-447e-f7aa-9794ebbf1b42"
      },
      "execution_count": null,
      "outputs": [
        {
          "output_type": "stream",
          "name": "stdout",
          "text": [
            "A is 2\n"
          ]
        }
      ]
    },
    {
      "cell_type": "code",
      "source": [
        "#name = input('your name pls')\n",
        "#print('Hello',name)\n",
        "#print('Hello ' +name)\n",
        "age = int(input('your age'))\n",
        "age=age+1\n",
        "print('your age is '+str(age))"
      ],
      "metadata": {
        "id": "f_mSC0TCN5Wf",
        "colab": {
          "base_uri": "https://localhost:8080/"
        },
        "outputId": "8d162726-e1f3-40bb-9e0b-bb9231a92bfe"
      },
      "execution_count": null,
      "outputs": [
        {
          "output_type": "stream",
          "name": "stdout",
          "text": [
            "your age38\n",
            "your age is 39\n"
          ]
        }
      ]
    },
    {
      "cell_type": "code",
      "source": [
        "#math\n",
        "import math\n",
        "pi=-3.14\n",
        "x=1\n",
        "y=2\n",
        "z=3\n",
        "#print(round(pi))\n",
        "#print(math.ceil(pi))\n",
        "#print(math.floor(pi))\n",
        "#print(abs(pi))\n",
        "#print(pow(pi,2))\n",
        "print(math.sqrt(100))\n",
        "print(max(x,y,z))\n",
        "print(min(x,y,z))"
      ],
      "metadata": {
        "colab": {
          "base_uri": "https://localhost:8080/"
        },
        "id": "SmpnzyUreLyc",
        "outputId": "743dfe2b-eacb-4191-e592-56030fb29092"
      },
      "execution_count": 13,
      "outputs": [
        {
          "output_type": "stream",
          "name": "stdout",
          "text": [
            "10.0\n",
            "3\n",
            "1\n"
          ]
        }
      ]
    },
    {
      "cell_type": "code",
      "source": [
        "#indexing - creating a substring from a bigger string, indexing[] or slide(), [start:stop:step]\n",
        "name = 'Ram Prakash'\n",
        "#first_name = name[0:3]\n",
        "first_name=name[:3]\n",
        "last_name = name[4:11] #also name[4:]\n",
        "funky = name[0:11:3] #also name[::2]\n",
        "#print(first_name)\n",
        "#print(last_name)\n",
        "#print(funky)\n",
        "reverse_name = name[::-1]\n",
        "print(reverse_name)"
      ],
      "metadata": {
        "colab": {
          "base_uri": "https://localhost:8080/"
        },
        "id": "JDlgdGGyCUOO",
        "outputId": "d4f42899-5eed-403a-b94a-0088ad50075a"
      },
      "execution_count": 29,
      "outputs": [
        {
          "output_type": "stream",
          "name": "stdout",
          "text": [
            "hsakarP maR\n"
          ]
        }
      ]
    },
    {
      "cell_type": "code",
      "source": [],
      "metadata": {
        "id": "DOVWpgVVL21P"
      },
      "execution_count": null,
      "outputs": []
    },
    {
      "cell_type": "code",
      "source": [],
      "metadata": {
        "id": "iAdVfsBSIbT5"
      },
      "execution_count": null,
      "outputs": []
    }
  ]
}