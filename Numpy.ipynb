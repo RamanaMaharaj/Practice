{
  "nbformat": 4,
  "nbformat_minor": 0,
  "metadata": {
    "colab": {
      "provenance": [],
      "authorship_tag": "ABX9TyPe+uybcelbvURrUQcSHXQm",
      "include_colab_link": true
    },
    "kernelspec": {
      "name": "python3",
      "display_name": "Python 3"
    },
    "language_info": {
      "name": "python"
    }
  },
  "cells": [
    {
      "cell_type": "markdown",
      "metadata": {
        "id": "view-in-github",
        "colab_type": "text"
      },
      "source": [
        "<a href=\"https://colab.research.google.com/github/RamanaMaharaj/Practice/blob/main/Numpy.ipynb\" target=\"_parent\"><img src=\"https://colab.research.google.com/assets/colab-badge.svg\" alt=\"Open In Colab\"/></a>"
      ]
    },
    {
      "cell_type": "code",
      "execution_count": 10,
      "metadata": {
        "colab": {
          "base_uri": "https://localhost:8080/"
        },
        "id": "tTJCywOwx0xi",
        "outputId": "bdb437cf-82c6-4216-8504-ac439cb30625"
      },
      "outputs": [
        {
          "output_type": "stream",
          "name": "stdout",
          "text": [
            "2800000\n",
            "80\n",
            "list time is 19.38915252685547\n",
            "array time is 0.8063316345214844\n"
          ]
        }
      ],
      "source": [
        "import numpy as np\n",
        "import sys, time\n",
        "\n",
        "\n",
        "a = range(100000)\n",
        "b = range(100000)\n",
        "\n",
        "print(sys.getsizeof(5)*len(a))\n",
        "time0 = time.time()\n",
        "sum1 = [a+b for a,b in zip(a,b)]\n",
        "#print(sum)\n",
        "time1 = time.time()\n",
        "\n",
        "\n",
        "c = np.arange(10)\n",
        "d = np.arange(10)\n",
        "print(c.size*c.itemsize)\n",
        "sum2 = c+d\n",
        "#print(sum2)\n",
        "time2 = time.time()\n",
        "\n",
        "print(\"list time is\",(time1-time0)*1000)\n",
        "print(\"array time is\", (time2-time1)*1000)\n",
        "\n"
      ]
    },
    {
      "cell_type": "code",
      "source": [
        "import numpy as np\n",
        "a = np.array([1,2,3])\n",
        "b = np.array([4,5,6])\n",
        "a+b\n",
        "b-a\n",
        "a*b"
      ],
      "metadata": {
        "colab": {
          "base_uri": "https://localhost:8080/"
        },
        "id": "FfDiHLJt0w0N",
        "outputId": "837f9b50-b2c6-4bac-a303-a535be1044f4"
      },
      "execution_count": 1,
      "outputs": [
        {
          "output_type": "execute_result",
          "data": {
            "text/plain": [
              "array([ 4, 10, 18])"
            ]
          },
          "metadata": {},
          "execution_count": 1
        }
      ]
    },
    {
      "cell_type": "code",
      "source": [
        "import numpy as np\n",
        "a = 16\n",
        "b = 4\n",
        "lcm1 = np.lcm(a,b)\n",
        "print(\"LCM of these numbers is\",lcm1)\n",
        "hcf = np.gcd(a,b)\n",
        "print(\"HCF of these numbers is\", hcf)"
      ],
      "metadata": {
        "colab": {
          "base_uri": "https://localhost:8080/"
        },
        "id": "FsYAfbp6buty",
        "outputId": "32be5670-0cce-4740-e4d3-b102787b0469"
      },
      "execution_count": 3,
      "outputs": [
        {
          "output_type": "stream",
          "name": "stdout",
          "text": [
            "LCM of these numbers is 16\n",
            "HCF of these numbers is 4\n"
          ]
        }
      ]
    },
    {
      "cell_type": "code",
      "source": [
        "import numpy as np\n",
        "a = np.array([[1,2],[3,4]],dtype=np.float64)\n",
        "a.ndim\n",
        "a.size\n",
        "a.reshape(1,4)\n",
        "a.ravel()\n",
        "a.itemsize\n",
        "np.ones((2,2))\n",
        "np.linspace(1,5)\n",
        "b=np.array([[4,5],[6,7]])\n",
        "c=a.dot(b)\n",
        "c"
      ],
      "metadata": {
        "colab": {
          "base_uri": "https://localhost:8080/"
        },
        "id": "NnBYFEkf7K14",
        "outputId": "36320550-f9ad-4422-8775-6900dac3942b"
      },
      "execution_count": 26,
      "outputs": [
        {
          "output_type": "execute_result",
          "data": {
            "text/plain": [
              "array([[16., 19.],\n",
              "       [36., 43.]])"
            ]
          },
          "metadata": {},
          "execution_count": 26
        }
      ]
    }
  ]
}